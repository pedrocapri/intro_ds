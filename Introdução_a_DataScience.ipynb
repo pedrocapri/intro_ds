{
  "nbformat": 4,
  "nbformat_minor": 0,
  "metadata": {
    "colab": {
      "name": "Introdução_a_DataScience.ipynb",
      "provenance": [],
      "collapsed_sections": [],
      "authorship_tag": "ABX9TyM6iJw+pO/cHLna68n/tLKj",
      "include_colab_link": true
    },
    "kernelspec": {
      "name": "python3",
      "display_name": "Python 3"
    },
    "language_info": {
      "name": "python"
    }
  },
  "cells": [
    {
      "cell_type": "markdown",
      "metadata": {
        "id": "view-in-github",
        "colab_type": "text"
      },
      "source": [
        "<a href=\"https://colab.research.google.com/github/pedrocapri/intro_ds/blob/main/Introdu%C3%A7%C3%A3o_a_DataScience.ipynb\" target=\"_parent\"><img src=\"https://colab.research.google.com/assets/colab-badge.svg\" alt=\"Open In Colab\"/></a>"
      ]
    },
    {
      "cell_type": "code",
      "source": [
        "import pandas as pd"
      ],
      "metadata": {
        "id": "xrYlNHb4Ze63"
      },
      "execution_count": 1,
      "outputs": []
    },
    {
      "cell_type": "code",
      "source": [
        "notas = pd.read_csv('ratings.csv')"
      ],
      "metadata": {
        "id": "IwZcKwOtZzJ9"
      },
      "execution_count": 4,
      "outputs": []
    },
    {
      "cell_type": "code",
      "source": [
        "notas.head"
      ],
      "metadata": {
        "colab": {
          "base_uri": "https://localhost:8080/"
        },
        "id": "Q9TP3vzcaSWS",
        "outputId": "4f72c8ad-de63-49ab-aab4-0933a6d1b875"
      },
      "execution_count": 10,
      "outputs": [
        {
          "output_type": "execute_result",
          "data": {
            "text/plain": [
              "<bound method NDFrame.head of         userId  movieId  rating     timestamp\n",
              "0            1        1     4.0  9.649827e+08\n",
              "1            1        3     4.0  9.649812e+08\n",
              "2            1        6     4.0  9.649822e+08\n",
              "3            1       47     5.0  9.649838e+08\n",
              "4            1       50     5.0  9.649829e+08\n",
              "...        ...      ...     ...           ...\n",
              "143018     610   166534     4.0  1.493848e+09\n",
              "143019     610   168248     5.0  1.493850e+09\n",
              "143020     610   168250     5.0  1.494273e+09\n",
              "143021     610   168252     5.0  1.493846e+09\n",
              "143022     610   170875     3.0  1.493846e+09\n",
              "\n",
              "[143023 rows x 4 columns]>"
            ]
          },
          "metadata": {},
          "execution_count": 10
        }
      ]
    },
    {
      "cell_type": "code",
      "source": [
        "notas.shape"
      ],
      "metadata": {
        "colab": {
          "base_uri": "https://localhost:8080/"
        },
        "id": "wRfCFLJeab_w",
        "outputId": "a94caf2b-61a1-4e2b-b18e-1ffd68787ae7"
      },
      "execution_count": 8,
      "outputs": [
        {
          "output_type": "execute_result",
          "data": {
            "text/plain": [
              "(143023, 4)"
            ]
          },
          "metadata": {},
          "execution_count": 8
        }
      ]
    },
    {
      "cell_type": "code",
      "source": [
        "notas.columns = ['UsuarioID', 'FilmeID', 'Notas', 'Momento']"
      ],
      "metadata": {
        "id": "tepL6ml3akPM"
      },
      "execution_count": 11,
      "outputs": []
    },
    {
      "cell_type": "code",
      "source": [
        "notas.head"
      ],
      "metadata": {
        "colab": {
          "base_uri": "https://localhost:8080/"
        },
        "id": "YzVYYdOoat7q",
        "outputId": "7171111a-bb96-477c-f81b-5d38955c0849"
      },
      "execution_count": 13,
      "outputs": [
        {
          "output_type": "execute_result",
          "data": {
            "text/plain": [
              "<bound method NDFrame.head of         UsuarioID  FilmeID  Notas       Momento\n",
              "0               1        1    4.0  9.649827e+08\n",
              "1               1        3    4.0  9.649812e+08\n",
              "2               1        6    4.0  9.649822e+08\n",
              "3               1       47    5.0  9.649838e+08\n",
              "4               1       50    5.0  9.649829e+08\n",
              "...           ...      ...    ...           ...\n",
              "143018        610   166534    4.0  1.493848e+09\n",
              "143019        610   168248    5.0  1.493850e+09\n",
              "143020        610   168250    5.0  1.494273e+09\n",
              "143021        610   168252    5.0  1.493846e+09\n",
              "143022        610   170875    3.0  1.493846e+09\n",
              "\n",
              "[143023 rows x 4 columns]>"
            ]
          },
          "metadata": {},
          "execution_count": 13
        }
      ]
    },
    {
      "cell_type": "code",
      "source": [
        "notas['Notas'].unique()"
      ],
      "metadata": {
        "colab": {
          "base_uri": "https://localhost:8080/"
        },
        "id": "4VEMdeSCa2Eu",
        "outputId": "19355e61-b9c8-490b-e101-39696d16cf8f"
      },
      "execution_count": 22,
      "outputs": [
        {
          "output_type": "execute_result",
          "data": {
            "text/plain": [
              "array([4.00000000e+00, 5.00000000e+00, 3.00000000e+00, 2.00000000e+00,\n",
              "       1.00000000e+00, 4.50000000e+00, 3.50000000e+00, 2.50000000e+00,\n",
              "       5.00000000e-01, 1.50000000e+00, 1.14347371e+09])"
            ]
          },
          "metadata": {},
          "execution_count": 22
        }
      ]
    },
    {
      "cell_type": "code",
      "source": [
        "notas['Notas'].value_counts()"
      ],
      "metadata": {
        "colab": {
          "base_uri": "https://localhost:8080/"
        },
        "id": "_IQ32BpebTlR",
        "outputId": "8765958e-f8c9-4aa7-9ae6-15f121f835ad"
      },
      "execution_count": 25,
      "outputs": [
        {
          "output_type": "execute_result",
          "data": {
            "text/plain": [
              "4.000000e+00    38168\n",
              "3.000000e+00    28286\n",
              "3.500000e+00    18765\n",
              "5.000000e+00    18624\n",
              "4.500000e+00    11903\n",
              "2.000000e+00    10896\n",
              "2.500000e+00     7670\n",
              "1.000000e+00     4034\n",
              "1.500000e+00     2623\n",
              "5.000000e-01     2053\n",
              "1.143474e+09        1\n",
              "Name: Notas, dtype: int64"
            ]
          },
          "metadata": {},
          "execution_count": 25
        }
      ]
    }
  ]
}